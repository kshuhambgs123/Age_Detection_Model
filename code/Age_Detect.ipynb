{
  "cells": [
    {
      "cell_type": "markdown",
      "metadata": {
        "id": "view-in-github",
        "colab_type": "text"
      },
      "source": [
        "<a href=\"https://colab.research.google.com/github/kshuhambgs123/Age_Detection_Model/blob/main/Untitled7.ipynb\" target=\"_parent\"><img src=\"https://colab.research.google.com/assets/colab-badge.svg\" alt=\"Open In Colab\"/></a>"
      ]
    },
    {
      "cell_type": "code",
      "execution_count": 1,
      "metadata": {
        "id": "uSpVoIuigFXR"
      },
      "outputs": [],
      "source": [
        " %matplotlib inline\n",
        "# Ignore warnings\n",
        "import warnings\n",
        "warnings.filterwarnings('ignore')\n",
        "\n",
        "# Handle table-like data and matrices\n",
        "import numpy as np\n",
        "import pandas as pd\n",
        "\n",
        "# Visualisation\n",
        "import matplotlib as mpl\n",
        "import matplotlib.pyplot as plt\n",
        "import matplotlib.pylab as pylab\n",
        "import seaborn as sns\n",
        "\n",
        "# utils\n",
        "from matplotlib.pyplot import imread\n",
        "from skimage.transform import resize\n",
        "import os\n",
        "import random\n",
        "\n",
        "# Configure visualisations\n",
        "# %matplotlib inline\n",
        "color = sns.color_palette()\n",
        "pd.options.mode.chained_assignment = None\n",
        "pd.options.display.max_columns = 999\n",
        "mpl.style.use( 'ggplot' )\n",
        "sns.set_style( 'white' )\n",
        "pylab.rcParams[ 'figure.figsize' ] = 10,8 \n"
      ]
    },
    {
      "cell_type": "code",
      "execution_count": 15,
      "metadata": {
        "id": "yR2BqtZ9BGPO"
      },
      "outputs": [],
      "source": [
        "def bar_plot(df, col, text = True, k = None, rot = 0):\n",
        "    \"\"\"\n",
        "    Arguments:\n",
        "    x : pandas series\n",
        "    Returns:\n",
        "    seaborn barplot with text on top\n",
        "    \"\"\"\n",
        "    if k == None:\n",
        "        x = df[col].value_counts()\n",
        "    else:\n",
        "        x = df[col].value_counts()[:k]\n",
        "    ax= sns.barplot(x = x.index, y = x.values, alpha=0.8)\n",
        "    plt.title(\"# per class\")\n",
        "    plt.ylabel('# of Occurrences', fontsize=12)\n",
        "    plt.xlabel(col, fontsize=12)\n",
        "    #adding the text labels\n",
        "    if text:\n",
        "        rects = ax.patches\n",
        "        labels = x.values\n",
        "        for rect, label in zip(rects, labels):\n",
        "            height = rect.get_height()\n",
        "            ax.text(rect.get_x() + rect.get_width()/2, height + 5, label, ha='center', va='bottom')\n",
        "    plt.xticks(rotation = rot)\n",
        "    plt.show()"
      ]
    },
    {
      "cell_type": "code",
      "execution_count": 3,
      "metadata": {
        "id": "sLwdSUbRCgQe"
      },
      "outputs": [],
      "source": [
        "# set the root path\n",
        "root_dir = os.path.abspath('.')\n",
        "# set the data dir\n",
        "data_dir = '/content/drive/MyDrive/Age-Detection-mod/input'"
      ]
    },
    {
      "cell_type": "code",
      "execution_count": 4,
      "metadata": {
        "id": "f6OWrBVHDA1v"
      },
      "outputs": [],
      "source": [
        "train = pd.read_csv(os.path.join(data_dir, 'train.csv'))\n",
        "test = pd.read_csv(os.path.join(data_dir, 'test.csv'))"
      ]
    },
    {
      "cell_type": "code",
      "execution_count": 11,
      "metadata": {
        "colab": {
          "base_uri": "https://localhost:8080/",
          "height": 206
        },
        "id": "1EPRX9kxDFDl",
        "outputId": "6d2c8c86-7d4e-41f5-8850-f79a1c10a12d"
      },
      "outputs": [
        {
          "output_type": "execute_result",
          "data": {
            "text/plain": [
              "          ID   Class\n",
              "0    377.jpg  MIDDLE\n",
              "1  17814.jpg   YOUNG\n",
              "2  21283.jpg  MIDDLE\n",
              "3  16496.jpg   YOUNG\n",
              "4   4487.jpg  MIDDLE"
            ],
            "text/html": [
              "\n",
              "  <div id=\"df-adf3bacc-a312-4dd6-84aa-6475888f93c2\">\n",
              "    <div class=\"colab-df-container\">\n",
              "      <div>\n",
              "<style scoped>\n",
              "    .dataframe tbody tr th:only-of-type {\n",
              "        vertical-align: middle;\n",
              "    }\n",
              "\n",
              "    .dataframe tbody tr th {\n",
              "        vertical-align: top;\n",
              "    }\n",
              "\n",
              "    .dataframe thead th {\n",
              "        text-align: right;\n",
              "    }\n",
              "</style>\n",
              "<table border=\"1\" class=\"dataframe\">\n",
              "  <thead>\n",
              "    <tr style=\"text-align: right;\">\n",
              "      <th></th>\n",
              "      <th>ID</th>\n",
              "      <th>Class</th>\n",
              "    </tr>\n",
              "  </thead>\n",
              "  <tbody>\n",
              "    <tr>\n",
              "      <th>0</th>\n",
              "      <td>377.jpg</td>\n",
              "      <td>MIDDLE</td>\n",
              "    </tr>\n",
              "    <tr>\n",
              "      <th>1</th>\n",
              "      <td>17814.jpg</td>\n",
              "      <td>YOUNG</td>\n",
              "    </tr>\n",
              "    <tr>\n",
              "      <th>2</th>\n",
              "      <td>21283.jpg</td>\n",
              "      <td>MIDDLE</td>\n",
              "    </tr>\n",
              "    <tr>\n",
              "      <th>3</th>\n",
              "      <td>16496.jpg</td>\n",
              "      <td>YOUNG</td>\n",
              "    </tr>\n",
              "    <tr>\n",
              "      <th>4</th>\n",
              "      <td>4487.jpg</td>\n",
              "      <td>MIDDLE</td>\n",
              "    </tr>\n",
              "  </tbody>\n",
              "</table>\n",
              "</div>\n",
              "      <button class=\"colab-df-convert\" onclick=\"convertToInteractive('df-adf3bacc-a312-4dd6-84aa-6475888f93c2')\"\n",
              "              title=\"Convert this dataframe to an interactive table.\"\n",
              "              style=\"display:none;\">\n",
              "        \n",
              "  <svg xmlns=\"http://www.w3.org/2000/svg\" height=\"24px\"viewBox=\"0 0 24 24\"\n",
              "       width=\"24px\">\n",
              "    <path d=\"M0 0h24v24H0V0z\" fill=\"none\"/>\n",
              "    <path d=\"M18.56 5.44l.94 2.06.94-2.06 2.06-.94-2.06-.94-.94-2.06-.94 2.06-2.06.94zm-11 1L8.5 8.5l.94-2.06 2.06-.94-2.06-.94L8.5 2.5l-.94 2.06-2.06.94zm10 10l.94 2.06.94-2.06 2.06-.94-2.06-.94-.94-2.06-.94 2.06-2.06.94z\"/><path d=\"M17.41 7.96l-1.37-1.37c-.4-.4-.92-.59-1.43-.59-.52 0-1.04.2-1.43.59L10.3 9.45l-7.72 7.72c-.78.78-.78 2.05 0 2.83L4 21.41c.39.39.9.59 1.41.59.51 0 1.02-.2 1.41-.59l7.78-7.78 2.81-2.81c.8-.78.8-2.07 0-2.86zM5.41 20L4 18.59l7.72-7.72 1.47 1.35L5.41 20z\"/>\n",
              "  </svg>\n",
              "      </button>\n",
              "      \n",
              "  <style>\n",
              "    .colab-df-container {\n",
              "      display:flex;\n",
              "      flex-wrap:wrap;\n",
              "      gap: 12px;\n",
              "    }\n",
              "\n",
              "    .colab-df-convert {\n",
              "      background-color: #E8F0FE;\n",
              "      border: none;\n",
              "      border-radius: 50%;\n",
              "      cursor: pointer;\n",
              "      display: none;\n",
              "      fill: #1967D2;\n",
              "      height: 32px;\n",
              "      padding: 0 0 0 0;\n",
              "      width: 32px;\n",
              "    }\n",
              "\n",
              "    .colab-df-convert:hover {\n",
              "      background-color: #E2EBFA;\n",
              "      box-shadow: 0px 1px 2px rgba(60, 64, 67, 0.3), 0px 1px 3px 1px rgba(60, 64, 67, 0.15);\n",
              "      fill: #174EA6;\n",
              "    }\n",
              "\n",
              "    [theme=dark] .colab-df-convert {\n",
              "      background-color: #3B4455;\n",
              "      fill: #D2E3FC;\n",
              "    }\n",
              "\n",
              "    [theme=dark] .colab-df-convert:hover {\n",
              "      background-color: #434B5C;\n",
              "      box-shadow: 0px 1px 3px 1px rgba(0, 0, 0, 0.15);\n",
              "      filter: drop-shadow(0px 1px 2px rgba(0, 0, 0, 0.3));\n",
              "      fill: #FFFFFF;\n",
              "    }\n",
              "  </style>\n",
              "\n",
              "      <script>\n",
              "        const buttonEl =\n",
              "          document.querySelector('#df-adf3bacc-a312-4dd6-84aa-6475888f93c2 button.colab-df-convert');\n",
              "        buttonEl.style.display =\n",
              "          google.colab.kernel.accessAllowed ? 'block' : 'none';\n",
              "\n",
              "        async function convertToInteractive(key) {\n",
              "          const element = document.querySelector('#df-adf3bacc-a312-4dd6-84aa-6475888f93c2');\n",
              "          const dataTable =\n",
              "            await google.colab.kernel.invokeFunction('convertToInteractive',\n",
              "                                                     [key], {});\n",
              "          if (!dataTable) return;\n",
              "\n",
              "          const docLinkHtml = 'Like what you see? Visit the ' +\n",
              "            '<a target=\"_blank\" href=https://colab.research.google.com/notebooks/data_table.ipynb>data table notebook</a>'\n",
              "            + ' to learn more about interactive tables.';\n",
              "          element.innerHTML = '';\n",
              "          dataTable['output_type'] = 'display_data';\n",
              "          await google.colab.output.renderOutput(dataTable, element);\n",
              "          const docLink = document.createElement('div');\n",
              "          docLink.innerHTML = docLinkHtml;\n",
              "          element.appendChild(docLink);\n",
              "        }\n",
              "      </script>\n",
              "    </div>\n",
              "  </div>\n",
              "  "
            ]
          },
          "metadata": {},
          "execution_count": 11
        }
      ],
      "source": [
        "# train.head()\n",
        "#train.sort_values([\"ID\"], \n",
        "  #                  axis=0,\n",
        " #                   ascending=[True], \n",
        "  #                  inplace=True)\n",
        "train.head()"
      ]
    },
    {
      "cell_type": "code",
      "execution_count": 5,
      "metadata": {
        "colab": {
          "base_uri": "https://localhost:8080/"
        },
        "id": "_2-T2GH7DIqQ",
        "outputId": "04d16f41-e088-44a6-a389-d819b520d495"
      },
      "outputs": [
        {
          "output_type": "stream",
          "name": "stdout",
          "text": [
            "Train shape : (19906, 2)\n",
            "Test shape : (6636, 1)\n"
          ]
        }
      ],
      "source": [
        "print(\"Train shape :\",train.shape)\n",
        "print(\"Test shape :\",test.shape)"
      ]
    },
    {
      "cell_type": "code",
      "execution_count": 6,
      "metadata": {
        "id": "MV5n3mupDTyl"
      },
      "outputs": [],
      "source": [
        "def show_random_image(df, folder_name):\n",
        "    i = random.choice(df.index)\n",
        "\n",
        "    img_name = df.ID[i]\n",
        "    img = imread(os.path.join(data_dir, folder_name, img_name))\n",
        "\n",
        "    print('Age : ', train.Class[i])\n",
        "    plt.imshow(img)\n",
        "    "
      ]
    },
    {
      "cell_type": "code",
      "execution_count": 9,
      "metadata": {
        "colab": {
          "base_uri": "https://localhost:8080/",
          "height": 698
        },
        "id": "YhaiRrhADXsi",
        "outputId": "3d1b706e-5767-4568-b6e2-9a5496a8f741"
      },
      "outputs": [
        {
          "output_type": "stream",
          "name": "stdout",
          "text": [
            "Age :  YOUNG\n"
          ]
        },
        {
          "output_type": "display_data",
          "data": {
            "text/plain": [
              "<Figure size 1000x800 with 1 Axes>"
            ],
            "image/png": "[encoded data removed]"
          },
          "metadata": {}
        }
      ],
      "source": [
        "# show random image \n",
        "show_random_image(train, \"train\")"
      ]
    },
    {
      "cell_type": "code",
      "execution_count": 10,
      "metadata": {
        "id": "mnxjqlnQDciN"
      },
      "outputs": [],
      "source": [
        "def resize_img(df, folder_name):\n",
        "    temp = []\n",
        "    for index,img_name in enumerate(df.ID):\n",
        "        if index % 1000 == 0:\n",
        "            print ('Index :',index)\n",
        "        img_path = os.path.join(data_dir, folder_name, img_name)\n",
        "        img = imread(img_path)\n",
        "        img = resize(img, (32, 32))\n",
        "        img = img.astype('float32')\n",
        "        temp.append(img)\n",
        "\n",
        "    return np.stack(temp)\n",
        "    "
      ]
    },
    {
      "cell_type": "code",
      "execution_count": 11,
      "metadata": {
        "colab": {
          "base_uri": "https://localhost:8080/"
        },
        "id": "MK3ZBHn4EL9X",
        "outputId": "366d10b4-962c-4b09-9991-debac0c22bd8"
      },
      "outputs": [
        {
          "output_type": "stream",
          "name": "stdout",
          "text": [
            "Index : 0\n",
            "Index : 1000\n",
            "Index : 2000\n",
            "Index : 3000\n",
            "Index : 4000\n",
            "Index : 5000\n",
            "Index : 6000\n",
            "Index : 7000\n",
            "Index : 8000\n",
            "Index : 9000\n",
            "Index : 10000\n",
            "Index : 11000\n",
            "Index : 12000\n",
            "Index : 13000\n",
            "Index : 14000\n",
            "Index : 15000\n",
            "Index : 16000\n",
            "Index : 17000\n",
            "Index : 18000\n",
            "Index : 19000\n"
          ]
        }
      ],
      "source": [
        "# resize all the images 32 x 32 (training set), usually takes ~ 4-5 min (CPU)\n",
        "train_x = resize_img(train, \"train\")"
      ]
    },
    {
      "cell_type": "code",
      "execution_count": 12,
      "metadata": {
        "colab": {
          "base_uri": "https://localhost:8080/"
        },
        "id": "bfyEVtJ1Eb1Z",
        "outputId": "3fab28be-4e84-4353-daca-1640dbd30967"
      },
      "outputs": [
        {
          "output_type": "stream",
          "name": "stdout",
          "text": [
            "Index : 0\n",
            "Index : 1000\n",
            "Index : 2000\n",
            "Index : 3000\n",
            "Index : 4000\n",
            "Index : 5000\n",
            "Index : 6000\n"
          ]
        }
      ],
      "source": [
        "# resize all the images 32 x 32 (testing set)\n",
        "test_x = resize_img(test, \"test\")"
      ]
    },
    {
      "cell_type": "code",
      "execution_count": 13,
      "metadata": {
        "id": "8aEychMIFBB5"
      },
      "outputs": [],
      "source": [
        "# flatten the image array\n",
        "train_x = train_x / 255\n",
        "test_x = test_x / 255"
      ]
    },
    {
      "cell_type": "code",
      "execution_count": 16,
      "metadata": {
        "id": "PsKo6iqxFA0E",
        "colab": {
          "base_uri": "https://localhost:8080/",
          "height": 542
        },
        "outputId": "0d345f58-ca16-4829-daea-ffca1e49c253"
      },
      "outputs": [
        {
          "output_type": "display_data",
          "data": {
            "text/plain": [
              "<Figure size 1000x800 with 1 Axes>"
            ],
            "image/png": "[encoded data removed]"
          },
          "metadata": {}
        }
      ],
      "source": [
        "bar_plot(train, \"Class\")"
      ]
    },
    {
      "cell_type": "code",
      "execution_count": 17,
      "metadata": {
        "id": "LuaKocBrFF9d"
      },
      "outputs": [],
      "source": [
        "import keras\n",
        "from sklearn.preprocessing import LabelEncoder\n",
        "\n",
        "lb = LabelEncoder()\n",
        "train_y = lb.fit_transform(train.Class)\n",
        "train_y = keras.utils.np_utils.to_categorical(train_y)"
      ]
    },
    {
      "cell_type": "code",
      "execution_count": 18,
      "metadata": {
        "id": "D5KY4MfMFIQH"
      },
      "outputs": [],
      "source": [
        "# set up the parameters for neural network\n",
        "input_num_units = (32, 32, 3)\n",
        "hidden_num_units = 600\n",
        "output_num_units = 3\n",
        "num_filter = 100\n",
        "\n",
        "epochs = 30\n",
        "batch_size = 64"
      ]
    },
    {
      "cell_type": "code",
      "execution_count": 19,
      "metadata": {
        "id": "Lc2BIX8vFL6d"
      },
      "outputs": [],
      "source": [
        "from keras.models import Sequential\n",
        "from keras.layers import Dense, Flatten, InputLayer\n",
        "from keras.layers import Conv2D, MaxPooling2D, Dropout"
      ]
    },
    {
      "cell_type": "code",
      "execution_count": 20,
      "metadata": {
        "id": "wZwfRxuDFOMz"
      },
      "outputs": [],
      "source": [
        "model = Sequential()\n",
        "\n",
        "## Input Layer\n",
        "model.add(InputLayer(input_shape=input_num_units))\n",
        "\n",
        "## Convolutional layer\n",
        "model.add(Conv2D(num_filter, (3, 3), activation='relu', input_shape=input_num_units))\n",
        "\n",
        "model.add(MaxPooling2D())\n",
        "\n",
        "model.add(Dropout(0.25))\n",
        "\n",
        "model.add(Conv2D(int(num_filter * 0.5), (3, 3), activation='relu', input_shape=(10, 10, 100)))\n",
        "\n",
        "model.add(MaxPooling2D())\n",
        "\n",
        "model.add(Dropout(0.25))\n",
        "\n",
        "model.add(Conv2D(int(num_filter * 0.3), (3, 3), activation='relu', input_shape=(1, 1, 10)))\n",
        "\n",
        "model.add(Flatten())\n",
        "\n",
        "model.add(Dense(hidden_num_units, activation='relu'))\n",
        "\n",
        "model.add(Dropout(0.5))\n",
        "\n",
        "model.add(Dense(int(hidden_num_units * 0.2), activation='relu'))\n",
        "\n",
        "model.add(Dense(units=output_num_units, activation='softmax'))"
      ]
    },
    {
      "cell_type": "code",
      "execution_count": 21,
      "metadata": {
        "id": "ZYMQlWvAFQyq",
        "colab": {
          "base_uri": "https://localhost:8080/"
        },
        "outputId": "df23bd00-af64-48f9-f4e3-88489558c697"
      },
      "outputs": [
        {
          "output_type": "stream",
          "name": "stdout",
          "text": [
            "Model: \"sequential\"\n",
            "_________________________________________________________________\n",
            " Layer (type)                Output Shape              Param #   \n",
            "=================================================================\n",
            " conv2d (Conv2D)             (None, 30, 30, 100)       2800      \n",
            "                                                                 \n",
            " max_pooling2d (MaxPooling2D  (None, 15, 15, 100)      0         \n",
            " )                                                               \n",
            "                                                                 \n",
            " dropout (Dropout)           (None, 15, 15, 100)       0         \n",
            "                                                                 \n",
            " conv2d_1 (Conv2D)           (None, 13, 13, 50)        45050     \n",
            "                                                                 \n",
            " max_pooling2d_1 (MaxPooling  (None, 6, 6, 50)         0         \n",
            " 2D)                                                             \n",
            "                                                                 \n",
            " dropout_1 (Dropout)         (None, 6, 6, 50)          0         \n",
            "                                                                 \n",
            " conv2d_2 (Conv2D)           (None, 4, 4, 30)          13530     \n",
            "                                                                 \n",
            " flatten (Flatten)           (None, 480)               0         \n",
            "                                                                 \n",
            " dense (Dense)               (None, 600)               288600    \n",
            "                                                                 \n",
            " dropout_2 (Dropout)         (None, 600)               0         \n",
            "                                                                 \n",
            " dense_1 (Dense)             (None, 120)               72120     \n",
            "                                                                 \n",
            " dense_2 (Dense)             (None, 3)                 363       \n",
            "                                                                 \n",
            "=================================================================\n",
            "Total params: 422,463\n",
            "Trainable params: 422,463\n",
            "Non-trainable params: 0\n",
            "_________________________________________________________________\n"
          ]
        }
      ],
      "source": [
        "model.summary()"
      ]
    },
    {
      "cell_type": "code",
      "execution_count": 22,
      "metadata": {
        "id": "xCJG9AXGFSm2"
      },
      "outputs": [],
      "source": [
        "model.compile(optimizer='adam', loss='categorical_crossentropy', metrics=['accuracy'])\n",
        "# model.fit(train_x, train_y, batch_size=batch_size,epochs=epochs,verbose=1)"
      ]
    },
    {
      "cell_type": "code",
      "execution_count": 23,
      "metadata": {
        "id": "Rl0z-JG8FV_N",
        "colab": {
          "base_uri": "https://localhost:8080/"
        },
        "outputId": "59b9140e-b98a-43ac-907a-bb0d873efd27"
      },
      "outputs": [
        {
          "output_type": "stream",
          "name": "stdout",
          "text": [
            "Epoch 1/30\n",
            "280/280 [==============================] - 14s 10ms/step - loss: 0.9599 - accuracy: 0.5422 - val_loss: 0.9483 - val_accuracy: 0.5379\n",
            "Epoch 2/30\n",
            "280/280 [==============================] - 3s 10ms/step - loss: 0.9557 - accuracy: 0.5433 - val_loss: 0.9518 - val_accuracy: 0.5379\n",
            "Epoch 3/30\n",
            "280/280 [==============================] - 3s 9ms/step - loss: 0.9551 - accuracy: 0.5433 - val_loss: 0.9491 - val_accuracy: 0.5379\n",
            "Epoch 4/30\n",
            "280/280 [==============================] - 2s 8ms/step - loss: 0.9551 - accuracy: 0.5433 - val_loss: 0.9504 - val_accuracy: 0.5379\n",
            "Epoch 5/30\n",
            "280/280 [==============================] - 2s 8ms/step - loss: 0.9553 - accuracy: 0.5433 - val_loss: 0.9482 - val_accuracy: 0.5379\n",
            "Epoch 6/30\n",
            "280/280 [==============================] - 2s 8ms/step - loss: 0.9545 - accuracy: 0.5433 - val_loss: 0.9495 - val_accuracy: 0.5379\n",
            "Epoch 7/30\n",
            "280/280 [==============================] - 2s 8ms/step - loss: 0.9549 - accuracy: 0.5433 - val_loss: 0.9495 - val_accuracy: 0.5379\n",
            "Epoch 8/30\n",
            "280/280 [==============================] - 3s 9ms/step - loss: 0.9550 - accuracy: 0.5433 - val_loss: 0.9498 - val_accuracy: 0.5379\n",
            "Epoch 9/30\n",
            "280/280 [==============================] - 3s 9ms/step - loss: 0.9543 - accuracy: 0.5433 - val_loss: 0.9495 - val_accuracy: 0.5379\n",
            "Epoch 10/30\n",
            "280/280 [==============================] - 2s 8ms/step - loss: 0.9547 - accuracy: 0.5433 - val_loss: 0.9484 - val_accuracy: 0.5379\n",
            "Epoch 11/30\n",
            "280/280 [==============================] - 2s 8ms/step - loss: 0.9551 - accuracy: 0.5433 - val_loss: 0.9487 - val_accuracy: 0.5379\n",
            "Epoch 12/30\n",
            "280/280 [==============================] - 2s 8ms/step - loss: 0.9548 - accuracy: 0.5433 - val_loss: 0.9487 - val_accuracy: 0.5379\n",
            "Epoch 13/30\n",
            "280/280 [==============================] - 2s 8ms/step - loss: 0.9543 - accuracy: 0.5433 - val_loss: 0.9484 - val_accuracy: 0.5379\n",
            "Epoch 14/30\n",
            "280/280 [==============================] - 3s 9ms/step - loss: 0.9544 - accuracy: 0.5433 - val_loss: 0.9488 - val_accuracy: 0.5379\n",
            "Epoch 15/30\n",
            "280/280 [==============================] - 3s 9ms/step - loss: 0.9541 - accuracy: 0.5433 - val_loss: 0.9487 - val_accuracy: 0.5379\n",
            "Epoch 16/30\n",
            "280/280 [==============================] - 2s 8ms/step - loss: 0.9541 - accuracy: 0.5433 - val_loss: 0.9481 - val_accuracy: 0.5379\n",
            "Epoch 17/30\n",
            "280/280 [==============================] - 2s 8ms/step - loss: 0.9540 - accuracy: 0.5433 - val_loss: 0.9483 - val_accuracy: 0.5379\n",
            "Epoch 18/30\n",
            "280/280 [==============================] - 2s 8ms/step - loss: 0.9542 - accuracy: 0.5433 - val_loss: 0.9484 - val_accuracy: 0.5379\n",
            "Epoch 19/30\n",
            "280/280 [==============================] - 2s 8ms/step - loss: 0.9541 - accuracy: 0.5433 - val_loss: 0.9488 - val_accuracy: 0.5379\n",
            "Epoch 20/30\n",
            "280/280 [==============================] - 3s 9ms/step - loss: 0.9537 - accuracy: 0.5433 - val_loss: 0.9483 - val_accuracy: 0.5379\n",
            "Epoch 21/30\n",
            "280/280 [==============================] - 3s 9ms/step - loss: 0.9540 - accuracy: 0.5433 - val_loss: 0.9485 - val_accuracy: 0.5379\n",
            "Epoch 22/30\n",
            "280/280 [==============================] - 2s 8ms/step - loss: 0.9538 - accuracy: 0.5433 - val_loss: 0.9488 - val_accuracy: 0.5379\n",
            "Epoch 23/30\n",
            "280/280 [==============================] - 2s 8ms/step - loss: 0.9542 - accuracy: 0.5433 - val_loss: 0.9486 - val_accuracy: 0.5379\n",
            "Epoch 24/30\n",
            "280/280 [==============================] - 2s 8ms/step - loss: 0.9541 - accuracy: 0.5433 - val_loss: 0.9491 - val_accuracy: 0.5379\n",
            "Epoch 25/30\n",
            "280/280 [==============================] - 2s 8ms/step - loss: 0.9541 - accuracy: 0.5433 - val_loss: 0.9485 - val_accuracy: 0.5379\n",
            "Epoch 26/30\n",
            "280/280 [==============================] - 3s 9ms/step - loss: 0.9540 - accuracy: 0.5433 - val_loss: 0.9485 - val_accuracy: 0.5379\n",
            "Epoch 27/30\n",
            "280/280 [==============================] - 3s 10ms/step - loss: 0.9539 - accuracy: 0.5433 - val_loss: 0.9484 - val_accuracy: 0.5379\n",
            "Epoch 28/30\n",
            "280/280 [==============================] - 2s 8ms/step - loss: 0.9539 - accuracy: 0.5433 - val_loss: 0.9479 - val_accuracy: 0.5379\n",
            "Epoch 29/30\n",
            "280/280 [==============================] - 2s 8ms/step - loss: 0.9540 - accuracy: 0.5433 - val_loss: 0.9482 - val_accuracy: 0.5379\n",
            "Epoch 30/30\n",
            "280/280 [==============================] - 2s 8ms/step - loss: 0.9539 - accuracy: 0.5433 - val_loss: 0.9489 - val_accuracy: 0.5379\n"
          ]
        },
        {
          "output_type": "execute_result",
          "data": {
            "text/plain": [
              "<keras.callbacks.History at 0x7f6c4815dba0>"
            ]
          },
          "metadata": {},
          "execution_count": 23
        }
      ],
      "source": [
        "model.fit(train_x, train_y, batch_size=batch_size,epochs=epochs,verbose=1, validation_split=0.1)"
      ]
    },
    {
      "cell_type": "code",
      "execution_count": 27,
      "metadata": {
        "id": "_T4aIUf2FV0j",
        "colab": {
          "base_uri": "https://localhost:8080/"
        },
        "outputId": "2346665a-8a01-4664-94b7-06036469a08c"
      },
      "outputs": [
        {
          "output_type": "stream",
          "name": "stdout",
          "text": [
            "623/623 [==============================] - 1s 2ms/step\n",
            "208/208 [==============================] - 0s 2ms/step\n"
          ]
        }
      ],
      "source": [
        "pred_train = model.predict(train_x)\n",
        "pred = model.predict(test_x)\n",
        "pred = lb.inverse_transform(np.argmax(pred, axis = 1))\n",
        "\n",
        "test['Class'] = pred\n",
        "test.to_csv('submission.csv', index=False)"
      ]
    },
    {
      "cell_type": "code",
      "source": [
        "i = random.choice(train.index)\n",
        "img_name = train.ID[i]\n",
        "\n",
        "img = imread(os.path.join(data_dir, 'train', img_name)).astype('float32')\n",
        "resized_img = resize(img, (64, 64))\n",
        "resized_img = np.clip(resized_img, 0, 1)  # Clip values to [0, 1]\n",
        "plt.imshow(resized_img)\n",
        "pred_label = np.argmax(pred_train[i])\n",
        "print(\"Original:\", train.Class[i], 'Predicted:', lb.inverse_transform([pred_label]))\n"
      ],
      "metadata": {
        "colab": {
          "base_uri": "https://localhost:8080/",
          "height": 681
        },
        "id": "BogveQPXCjgN",
        "outputId": "f57d5be0-ca69-4d07-f79b-8759a3676765"
      },
      "execution_count": 44,
      "outputs": [
        {
          "output_type": "stream",
          "name": "stdout",
          "text": [
            "Original: MIDDLE Predicted: ['MIDDLE']\n"
          ]
        },
        {
          "output_type": "display_data",
          "data": {
            "text/plain": [
              "<Figure size 1000x800 with 1 Axes>"
            ],
            "image/png": "[encoded data removed]"
          },
          "metadata": {}
        }
      ]
    }
  ],
  "metadata": {
    "accelerator": "GPU",
    "colab": {
      "provenance": [],
      "mount_file_id": "1LfVuJZdXAMIrDz3_bb2pNvr6KmFv1WHi",
      "authorship_tag": "ABX9TyOB3SA7a1nWiaOsihoIpwFg",
      "include_colab_link": true
    },
    "kernelspec": {
      "display_name": "Python 3",
      "name": "python3"
    },
    "language_info": {
      "name": "python"
    }
  },
  "nbformat": 4,
  "nbformat_minor": 0
}